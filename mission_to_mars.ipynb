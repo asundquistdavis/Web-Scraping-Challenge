{
 "cells": [
  {
   "cell_type": "code",
   "execution_count": 4,
   "id": "683051d5",
   "metadata": {},
   "outputs": [],
   "source": [
    "from bs4 import BeautifulSoup as BS\n",
    "from splinter import Browser\n",
    "from webdriver_manager.chrome import ChromeDriverManager"
   ]
  },
  {
   "cell_type": "code",
   "execution_count": 10,
   "id": "d908fdbf",
   "metadata": {
    "scrolled": false
   },
   "outputs": [
    {
     "name": "stdout",
     "output_type": "stream",
     "text": [
      "<div class=\"col-md-12\">\n",
      "<hr/>\n",
      "<div class=\"row\">\n",
      "<div class=\"col-md-4\">\n",
      "<div class=\"list_image\">\n",
      "<img src=\"https://mars.nasa.gov/system/news_items/list_view_images/8594_apo_proton_aurora_no_text-320x240.jpg\"/>\n",
      "</div>\n",
      "</div>\n",
      "<div class=\"col-md-8\">\n",
      "<div class=\"list_text\">\n",
      "<div class=\"list_date\">September 10, 2022</div>\n",
      "<div class=\"content_title\">Newfound Martian Aurora Actually the Most Common; Sheds Light on Mars' Changing Climate</div>\n",
      "<div class=\"article_teaser_body\">A type of Martian aurora first identified by NASA’s MAVEN spacecraft in 2016 is actually the most common form of aurora occurring on the Red Planet, according to new results from the mission.</div>\n",
      "</div>\n",
      "</div>\n",
      "</div>\n",
      "</div>\n"
     ]
    }
   ],
   "source": [
    "url = 'https://redplanetscience.com/'\n",
    "executable_path = {'executable_path': ChromeDriverManager().install()}\n",
    "with Browser('chrome', **executable_path, headless=False) as browser:\n",
    "    browser.visit(url)\n",
    "    html = browser.html\n",
    "    soup = BS(html, 'lxml')\n",
    "    section = soup.find('section', class_=\"image_and_description_container\")\n",
    "    div = section.find('div', class_='col-md-12')\n",
    "    \n",
    "print(div)"
   ]
  },
  {
   "cell_type": "code",
   "execution_count": null,
   "id": "5f9cd9b5",
   "metadata": {},
   "outputs": [],
   "source": []
  }
 ],
 "metadata": {
  "kernelspec": {
   "display_name": "Python 3 (ipykernel)",
   "language": "python",
   "name": "python3"
  },
  "language_info": {
   "codemirror_mode": {
    "name": "ipython",
    "version": 3
   },
   "file_extension": ".py",
   "mimetype": "text/x-python",
   "name": "python",
   "nbconvert_exporter": "python",
   "pygments_lexer": "ipython3",
   "version": "3.8.13"
  }
 },
 "nbformat": 4,
 "nbformat_minor": 5
}
