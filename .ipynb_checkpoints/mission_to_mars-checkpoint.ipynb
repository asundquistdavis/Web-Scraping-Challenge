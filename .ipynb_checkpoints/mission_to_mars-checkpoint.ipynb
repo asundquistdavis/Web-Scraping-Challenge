{
 "cells": [
  {
   "cell_type": "code",
   "execution_count": 1,
   "id": "3f3782f1",
   "metadata": {},
   "outputs": [],
   "source": [
    "from bs4 import BeautifulSoup as BS\n",
    "from splinter import Browser\n",
    "from webdriver_manager.chrome import ChromeDriverManager\n",
    "executable_path = {'executable_path': ChromeDriverManager().install()}"
   ]
  },
  {
   "cell_type": "code",
   "execution_count": null,
   "id": "c0ac86c3",
   "metadata": {
    "scrolled": false
   },
   "outputs": [],
   "source": [
    "url = 'https://redplanetscience.com/'\n",
    "with Browser('chrome', **executable_path, headless=False) as browser:\n",
    "    browser.visit(url)\n",
    "    html = browser.html\n",
    "    soup = BS(html, 'lxml')\n",
    "    section = soup.find('section', class_=\"image_and_description_container\")\n",
    "    div = section.find('div', class_='col-md-12')\n",
    "    title = div.find('div',class_='content_title').text\n",
    "    body = div.find('div', class_='article_teaser_body').text\n",
    "print(f'Title: {title}\\nBody: {body}')"
   ]
  },
  {
   "cell_type": "code",
   "execution_count": null,
   "id": "1691ac6e",
   "metadata": {},
   "outputs": [],
   "source": [
    "url = 'https://spaceimages-mars.com/'\n",
    "with Browser('chrome', **executable_path, headless=False) as browser:\n",
    "    browser.visit(url)\n",
    "    html = browser.html\n",
    "    soup = BS(html,'html.parser')\n",
    "    header = soup.find('div', class_='header')\n",
    "    img = header.find('img', class_='headerimage')['src']\n",
    "    img_url = f'{url}{img}'\n",
    "print(f'URL: {img_url}')"
   ]
  },
  {
   "cell_type": "code",
   "execution_count": null,
   "id": "b593169a",
   "metadata": {},
   "outputs": [],
   "source": []
  }
 ],
 "metadata": {
  "kernelspec": {
   "display_name": "Python 3 (ipykernel)",
   "language": "python",
   "name": "python3"
  },
  "language_info": {
   "codemirror_mode": {
    "name": "ipython",
    "version": 3
   },
   "file_extension": ".py",
   "mimetype": "text/x-python",
   "name": "python",
   "nbconvert_exporter": "python",
   "pygments_lexer": "ipython3",
   "version": "3.8.13"
  }
 },
 "nbformat": 4,
 "nbformat_minor": 5
}
