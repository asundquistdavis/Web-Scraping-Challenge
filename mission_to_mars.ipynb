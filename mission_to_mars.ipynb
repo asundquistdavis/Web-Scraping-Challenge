{
 "cells": [
  {
   "cell_type": "markdown",
   "id": "c4b7a13f",
   "metadata": {},
   "source": [
    "# Mission To Mars\n",
    "## Web Scaping Notebook\n",
    "This notebook is used to build the general strategy for scraping data needed to make the website. The website needs the following:\n",
    "- The title and body of a news article from [replanetscience.com](https://redplanetscience.com/),\n",
    "- The featured image from [spaceimages-mars.com](https://spaceimages-mars.com/),\n",
    "- A table conatining cool facts about Mars (and Earth) from [galaxyfacts-mars.com](https://galaxyfacts-mars.com/), and\n",
    "- Images of all four Martian hemispheres from [marshemispheres.com](https://marshemispheres.com/).\n",
    "\n",
    "The scraping techniques includes using [splinter](https://splinter.readthedocs.io/en/latest/) to visit pages, interact with them and get html, using [BeautifulSoup](https://www.crummy.com/software/BeautifulSoup/bs4/doc/) to find elements with wpecific tags and attributes, using [pandas](https://pandas.pydata.org/docs/reference/api/pandas.read_html.html) to `read_html` from tables and to save tables as html with `to_html` and using [requests](https://requests.readthedocs.io/en/latest/) to get raw html text from a url. To get the data of interest involves using a combination of these techniques and tweaking parameters. "
   ]
  },
  {
   "cell_type": "code",
   "execution_count": 1,
   "id": "3f3782f1",
   "metadata": {},
   "outputs": [],
   "source": [
    "# imports\n",
    "from bs4 import BeautifulSoup as BS\n",
    "from splinter import Browser\n",
    "from webdriver_manager.chrome import ChromeDriverManager\n",
    "import requests\n",
    "import pandas as pd\n",
    "executable_path = {'executable_path': ChromeDriverManager().install()}"
   ]
  },
  {
   "cell_type": "markdown",
   "id": "88447dbf",
   "metadata": {},
   "source": [
    "### News Article"
   ]
  },
  {
   "cell_type": "code",
   "execution_count": 2,
   "id": "c0ac86c3",
   "metadata": {
    "scrolled": false
   },
   "outputs": [
    {
     "name": "stdout",
     "output_type": "stream",
     "text": [
      "Title: NASA's Mars 2020 Comes Full Circle\n",
      "Body: Aiming to pinpoint the Martian vehicle's center of gravity, engineers took NASA's 2,300-pound Mars 2020 rover for a spin in the clean room at JPL. \n"
     ]
    }
   ],
   "source": [
    "# *** Strategy ***\n",
    "# have splinter visit redplanetscience and call html\n",
    "# have bs4 read html and find the 'section' element with class=\"image_and_dexription_container\"\n",
    "# then get the first 'div' under that - this is the target news story\n",
    "# save the element with class=\"content_title\" as title\n",
    "# save the element with class=\"article_teaser_body\" as body\n",
    "\n",
    "url = 'https://redplanetscience.com/'\n",
    "with Browser('chrome', **executable_path, headless=False) as browser:\n",
    "    browser.visit(url)\n",
    "    html = browser.html\n",
    "    soup = BS(html, 'lxml')\n",
    "    section = soup.find('section', class_=\"image_and_description_container\")\n",
    "    div = section.find('div', class_='col-md-12')\n",
    "    title = div.find('div',class_='content_title').text\n",
    "    body = div.find('div', class_='article_teaser_body').text\n",
    "print(f'Title: {title}\\nBody: {body}')"
   ]
  },
  {
   "cell_type": "markdown",
   "id": "5d95effb",
   "metadata": {},
   "source": [
    "### Featured Image"
   ]
  },
  {
   "cell_type": "code",
   "execution_count": 3,
   "id": "1691ac6e",
   "metadata": {},
   "outputs": [
    {
     "name": "stdout",
     "output_type": "stream",
     "text": [
      "URL: https://spaceimages-mars.com/image/featured/mars1.jpg\n"
     ]
    }
   ],
   "source": [
    "# *** Strategy ***\n",
    "# have splinter visit spaceimages-mars.com and call html\n",
    "# have bs4 read html and find the 'div' element with class=\"header\" - this is the main image\n",
    "# get the 'src' attribute from the 'img' element with class=\"headerimage\" and save as img\n",
    "# concatanate the website url and the img path to get the img_url\n",
    "\n",
    "url = 'https://spaceimages-mars.com/'\n",
    "with Browser('chrome', **executable_path, headless=False) as browser:\n",
    "    browser.visit(url)\n",
    "    html = browser.html\n",
    "    soup = BS(html,'html.parser')\n",
    "    header = soup.find('div', class_='header')\n",
    "    img = header.find('img', class_='headerimage')['src']\n",
    "    img_url = f'{url}{img}'\n",
    "print(f'URL: {img_url}')"
   ]
  },
  {
   "cell_type": "markdown",
   "id": "fb915bb0",
   "metadata": {},
   "source": [
    "### Mars/Earth Facts"
   ]
  },
  {
   "cell_type": "code",
   "execution_count": 4,
   "id": "b593169a",
   "metadata": {},
   "outputs": [
    {
     "name": "stdout",
     "output_type": "stream",
     "text": [
      "<table border=\"False\" class=\"dataframe table table-responsive\">\n",
      "  <thead>\n",
      "    <tr style=\"text-align: right;\">\n",
      "      <th></th>\n",
      "      <th>Mars</th>\n",
      "      <th>Earth</th>\n",
      "    </tr>\n",
      "  </thead>\n",
      "  <tbody>\n",
      "    <tr>\n",
      "      <td>Diameter:</td>\n",
      "      <td>6,779 km</td>\n",
      "      <td>12,742 km</td>\n",
      "    </tr>\n",
      "    <tr>\n",
      "      <td>Mass:</td>\n",
      "      <td>6.39 × 10^23 kg</td>\n",
      "      <td>5.97 × 10^24 kg</td>\n",
      "    </tr>\n",
      "    <tr>\n",
      "      <td>Moons:</td>\n",
      "      <td>2</td>\n",
      "      <td>1</td>\n",
      "    </tr>\n",
      "    <tr>\n",
      "      <td>Distance from Sun:</td>\n",
      "      <td>227,943,824 km</td>\n",
      "      <td>149,598,262 km</td>\n",
      "    </tr>\n",
      "    <tr>\n",
      "      <td>Length of Year:</td>\n",
      "      <td>687 Earth days</td>\n",
      "      <td>365.24 days</td>\n",
      "    </tr>\n",
      "    <tr>\n",
      "      <td>Temperature:</td>\n",
      "      <td>-87 to -5 °C</td>\n",
      "      <td>-88 to 58°C</td>\n",
      "    </tr>\n",
      "  </tbody>\n",
      "</table>\n"
     ]
    }
   ],
   "source": [
    "# *** Strategy ***\n",
    "# get html from galaxyfacts-mars.com using requests\n",
    "# have pandas scrape table(s) from html with text 'Mars - Earth Comparison'\n",
    "# clean up column names\n",
    "# have pandas generate html table for the dataframe and include bootstrap classes - 'table table-responsive'\n",
    "\n",
    "url = 'https://galaxyfacts-mars.com/'\n",
    "html = requests.get(url).content\n",
    "df = pd.read_html(html, match='Mars - Earth Comparison', header=0)[0]\n",
    "df[''] = df['Mars - Earth Comparison']\n",
    "table = df.loc[:,['','Mars','Earth']].to_html(index=False, border=1, classes=\"table table-responsive\")\n",
    "print(table)"
   ]
  },
  {
   "cell_type": "markdown",
   "id": "a229c84c",
   "metadata": {},
   "source": [
    "### Martian Hemispheres"
   ]
  },
  {
   "cell_type": "code",
   "execution_count": 5,
   "id": "e84a6567",
   "metadata": {},
   "outputs": [
    {
     "name": "stdout",
     "output_type": "stream",
     "text": [
      "--------------------------------------------------------------------------------------------------\n",
      "Title: Cerberus Hemisphere Enhanced\n",
      "URL: https://marshemispheres.com/images/f5e372a36edfa389625da6d0cc25d905_cerberus_enhanced.tif_full.jpg\n",
      "--------------------------------------------------------------------------------------------------\n",
      "Title: Schiaparelli Hemisphere Enhanced\n",
      "URL: https://marshemispheres.com/images/3778f7b43bbbc89d6e3cfabb3613ba93_schiaparelli_enhanced.tif_full.jpg\n",
      "--------------------------------------------------------------------------------------------------\n",
      "Title: Syrtis Major Hemisphere Enhanced\n",
      "URL: https://marshemispheres.com/images/555e6403a6ddd7ba16ddb0e471cadcf7_syrtis_major_enhanced.tif_full.jpg\n",
      "--------------------------------------------------------------------------------------------------\n",
      "Title: Valles Marineris Hemisphere Enhanced\n",
      "URL: https://marshemispheres.com/images/b3c7c6c9138f57b4756be9b9c43e3a48_valles_marineris_enhanced.tif_full.jpg\n"
     ]
    }
   ],
   "source": [
    "# *** Strategy ***\n",
    "# have splinter visit marshemispheres.com, four times\n",
    "# have splinter get all the links with partial text 'hemisphere'\n",
    "# and click on a different one each time\n",
    "# on new page, click the link that says 'Open' and call the html\n",
    "# have bs4 read html and find the 'h2' element with class=\"title\"\n",
    "# then get the 'src' attribute of the 'img' element with class='wide-image' and save it as img\n",
    "# concatenate the page root page url with the img path and save as the img_url\n",
    "\n",
    "url = 'https://marshemispheres.com/'\n",
    "with Browser('chrome', **executable_path, headless=False) as browser:\n",
    "    for i in range(4):\n",
    "        browser.visit(url)\n",
    "        links = browser.links.find_by_partial_text('Hemisphere')\n",
    "        links[i].click()\n",
    "        browser.links.find_by_text('Open').click()\n",
    "        html = browser.html\n",
    "        soup = BS(html)\n",
    "        title = soup.find('h2', class_='title').text\n",
    "        img = soup.find('img', class_='wide-image')['src']\n",
    "        img_url = f'{url}{img}'\n",
    "        print('--------------------------------------------------------------------------------------------------')\n",
    "        print(f'Title: {title}\\nURL: {img_url}')"
   ]
  }
 ],
 "metadata": {
  "kernelspec": {
   "display_name": "Python 3 (ipykernel)",
   "language": "python",
   "name": "python3"
  },
  "language_info": {
   "codemirror_mode": {
    "name": "ipython",
    "version": 3
   },
   "file_extension": ".py",
   "mimetype": "text/x-python",
   "name": "python",
   "nbconvert_exporter": "python",
   "pygments_lexer": "ipython3",
   "version": "3.8.13"
  }
 },
 "nbformat": 4,
 "nbformat_minor": 5
}
