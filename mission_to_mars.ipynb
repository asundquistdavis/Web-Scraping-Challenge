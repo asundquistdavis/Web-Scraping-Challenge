{
 "cells": [
  {
   "cell_type": "code",
   "execution_count": 1,
   "id": "3f3782f1",
   "metadata": {},
   "outputs": [],
   "source": [
    "from bs4 import BeautifulSoup as BS\n",
    "from splinter import Browser\n",
    "from webdriver_manager.chrome import ChromeDriverManager\n",
    "import requests\n",
    "import pandas as pd\n",
    "executable_path = {'executable_path': ChromeDriverManager().install()}"
   ]
  },
  {
   "cell_type": "code",
   "execution_count": null,
   "id": "c0ac86c3",
   "metadata": {
    "scrolled": false
   },
   "outputs": [],
   "source": [
    "url = 'https://redplanetscience.com/'\n",
    "with Browser('chrome', **executable_path, headless=False) as browser:\n",
    "    browser.visit(url)\n",
    "    html = browser.html\n",
    "    soup = BS(html, 'lxml')\n",
    "    section = soup.find('section', class_=\"image_and_description_container\")\n",
    "    div = section.find('div', class_='col-md-12')\n",
    "    title = div.find('div',class_='content_title').text\n",
    "    body = div.find('div', class_='article_teaser_body').text\n",
    "print(f'Title: {title}\\nBody: {body}')"
   ]
  },
  {
   "cell_type": "code",
   "execution_count": null,
   "id": "1691ac6e",
   "metadata": {},
   "outputs": [],
   "source": [
    "url = 'https://spaceimages-mars.com/'\n",
    "with Browser('chrome', **executable_path, headless=False) as browser:\n",
    "    browser.visit(url)\n",
    "    html = browser.html\n",
    "    soup = BS(html,'html.parser')\n",
    "    header = soup.find('div', class_='header')\n",
    "    img = header.find('img', class_='headerimage')['src']\n",
    "    img_url = f'{url}{img}'\n",
    "print(f'URL: {img_url}')"
   ]
  },
  {
   "cell_type": "code",
   "execution_count": 25,
   "id": "b593169a",
   "metadata": {},
   "outputs": [
    {
     "name": "stdout",
     "output_type": "stream",
     "text": [
      "<table border=\"False\" class=\"dataframe table table-responsive\">\n",
      "  <thead>\n",
      "    <tr style=\"text-align: right;\">\n",
      "      <th></th>\n",
      "      <th>Mars</th>\n",
      "      <th>Earth</th>\n",
      "    </tr>\n",
      "  </thead>\n",
      "  <tbody>\n",
      "    <tr>\n",
      "      <td>Diameter:</td>\n",
      "      <td>6,779 km</td>\n",
      "      <td>12,742 km</td>\n",
      "    </tr>\n",
      "    <tr>\n",
      "      <td>Mass:</td>\n",
      "      <td>6.39 × 10^23 kg</td>\n",
      "      <td>5.97 × 10^24 kg</td>\n",
      "    </tr>\n",
      "    <tr>\n",
      "      <td>Moons:</td>\n",
      "      <td>2</td>\n",
      "      <td>1</td>\n",
      "    </tr>\n",
      "    <tr>\n",
      "      <td>Distance from Sun:</td>\n",
      "      <td>227,943,824 km</td>\n",
      "      <td>149,598,262 km</td>\n",
      "    </tr>\n",
      "    <tr>\n",
      "      <td>Length of Year:</td>\n",
      "      <td>687 Earth days</td>\n",
      "      <td>365.24 days</td>\n",
      "    </tr>\n",
      "    <tr>\n",
      "      <td>Temperature:</td>\n",
      "      <td>-87 to -5 °C</td>\n",
      "      <td>-88 to 58°C</td>\n",
      "    </tr>\n",
      "  </tbody>\n",
      "</table>\n"
     ]
    }
   ],
   "source": [
    "url = 'https://galaxyfacts-mars.com/'\n",
    "html = requests.get(url).content\n",
    "df = pd.read_html(html, match='Mars - Earth Comparison', header=0)[0]\n",
    "df[''] = df['Mars - Earth Comparison']\n",
    "table = df.loc[:,['','Mars','Earth']].to_html(index=False, border=False, classes=\"table table-responsive\")\n",
    "print(table)"
   ]
  },
  {
   "cell_type": "code",
   "execution_count": 36,
   "id": "e84a6567",
   "metadata": {},
   "outputs": [
    {
     "name": "stdout",
     "output_type": "stream",
     "text": [
      "--------------------------------------------------------------------------------------------------\n",
      "Title: Cerberus Hemisphere Enhanced\n",
      "URL: https://marshemispheres.com/images/f5e372a36edfa389625da6d0cc25d905_cerberus_enhanced.tif_full.jpg\n",
      "--------------------------------------------------------------------------------------------------\n",
      "Title: Schiaparelli Hemisphere Enhanced\n",
      "URL: https://marshemispheres.com/images/3778f7b43bbbc89d6e3cfabb3613ba93_schiaparelli_enhanced.tif_full.jpg\n",
      "--------------------------------------------------------------------------------------------------\n",
      "Title: Syrtis Major Hemisphere Enhanced\n",
      "URL: https://marshemispheres.com/images/555e6403a6ddd7ba16ddb0e471cadcf7_syrtis_major_enhanced.tif_full.jpg\n",
      "--------------------------------------------------------------------------------------------------\n",
      "Title: Valles Marineris Hemisphere Enhanced\n",
      "URL: https://marshemispheres.com/images/b3c7c6c9138f57b4756be9b9c43e3a48_valles_marineris_enhanced.tif_full.jpg\n"
     ]
    }
   ],
   "source": [
    "url = 'https://marshemispheres.com/'\n",
    "with Browser('chrome', **executable_path, headless=False) as browser:\n",
    "    for i in range(4):\n",
    "        browser.visit(url)\n",
    "        links = browser.links.find_by_partial_text('Hemisphere')\n",
    "        links[i].click()\n",
    "        browser.links.find_by_text('Open').click()\n",
    "        html = browser.html\n",
    "        soup = BS(html)\n",
    "        title = soup.find('h2', class_='title').text\n",
    "        img = soup.find('img', class_='wide-image')['src']\n",
    "        img_url = f'{url}{img}'\n",
    "        print('--------------------------------------------------------------------------------------------------')\n",
    "        print(f'Title: {title}\\nURL: {img_url}')"
   ]
  }
 ],
 "metadata": {
  "kernelspec": {
   "display_name": "Python 3 (ipykernel)",
   "language": "python",
   "name": "python3"
  },
  "language_info": {
   "codemirror_mode": {
    "name": "ipython",
    "version": 3
   },
   "file_extension": ".py",
   "mimetype": "text/x-python",
   "name": "python",
   "nbconvert_exporter": "python",
   "pygments_lexer": "ipython3",
   "version": "3.8.13"
  }
 },
 "nbformat": 4,
 "nbformat_minor": 5
}
